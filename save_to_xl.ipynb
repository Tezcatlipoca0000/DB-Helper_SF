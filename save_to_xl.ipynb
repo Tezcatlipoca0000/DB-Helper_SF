{
 "cells": [
  {
   "cell_type": "code",
   "execution_count": 1,
   "metadata": {},
   "outputs": [],
   "source": [
    "# CONNECT \"localhost:C:/Users/casa/Desktop/DB-Helper/PDVDATA.FDB\" user 'SYSDBA' password 'masterkey';\n",
    "import fdb\n",
    "import pandas as pd\n",
    "import datetime"
   ]
  },
  {
   "cell_type": "code",
   "execution_count": 2,
   "metadata": {},
   "outputs": [
    {
     "name": "stderr",
     "output_type": "stream",
     "text": [
      "c:\\Users\\casa\\miniconda3\\envs\\test1\\lib\\site-packages\\openpyxl\\worksheet\\_reader.py:312: UserWarning: Unknown extension is not supported and will be removed\n",
      "  warn(msg)\n"
     ]
    }
   ],
   "source": [
    "excel_df = pd.read_excel('Provedores Todos.xlsm', sheet_name='Datos', index_col=0, na_values='--', skipfooter=10, usecols='A:AE')\n",
    "con = fdb.connect(dsn=\"localhost:C:/Users/casa/Desktop/DB-Helper/PDVDATA.FDB\", user='SYSDBA', password='masterkey', charset='UTF8')\n",
    "cur = con.cursor()"
   ]
  },
  {
   "cell_type": "code",
   "execution_count": 6,
   "metadata": {},
   "outputs": [],
   "source": [
    "for idx, row in excel_df.iterrows():\n",
    "    bars = False\n",
    "    excel_df.loc[idx, 'PVENTA'] = ''\n",
    "    if pd.notna(row['Código de Barras']):\n",
    "        bars = True\n",
    "        x = str(row['Código de Barras']).upper()\n",
    "        if ',' in x:\n",
    "            xx = x.split(',')\n",
    "            pp_set = set()\n",
    "            for x in xx:\n",
    "                x = x.strip()\n",
    "                cur.execute(\"SELECT PVENTA FROM PRODUCTOS WHERE CODIGO = ?;\", (x.encode('utf-8'),))\n",
    "                pp = cur.fetchone()\n",
    "                #excel_df.loc[idx, 'PVENTA'] = excel_df.loc[idx, 'PVENTA'] + str(pp[0]) + ', '\n",
    "                if pp : pp_set.add(pp[0])\n",
    "            #if len(pp_set) == 1: \n",
    "            #    excel_df.loc[idx, 'PVENTA'] = str(pp_set[0])\n",
    "            #    excel_df.loc[idx, 'Última Rev. Precios'] = datetime.date.today()\n",
    "            #if len(pp_set) > 1:\n",
    "            #    for i in pp_set:\n",
    "            #        excel_df.loc[idx, 'PVENTA'] = excel_df.loc[idx, 'PVENTA'] + ', ' + str(i)\n",
    "            #    excel_df.loc[idx, 'Última Rev. Precios'] = datetime.date.today()\n",
    "            for i in pp_set:\n",
    "                excel_df.loc[idx, 'PVENTA'] = excel_df.loc[idx, 'PVENTA'] + str(i) + ', '\n",
    "            excel_df.loc[idx, 'Última Rev. Precios'] = datetime.date.today()\n",
    "        else:\n",
    "            cur.execute(\"SELECT PVENTA FROM PRODUCTOS WHERE CODIGO = ?;\", (x.encode('utf-8'),))\n",
    "            pp = cur.fetchone()\n",
    "            if pp : excel_df.loc[idx, 'PVENTA'] = str(pp[0])\n",
    "            excel_df.loc[idx, 'Última Rev. Precios'] = datetime.date.today()\n",
    "    if pd.notna(row['Código SuperFuentes']):\n",
    "        x = str(row['Código SuperFuentes']).upper()\n",
    "        cur.execute(\"SELECT PVENTA FROM PRODUCTOS WHERE CODIGO = ?;\", (x.encode('utf-8'),))\n",
    "        pp = cur.fetchone()\n",
    "        #pp_set = set()\n",
    "        #pp_set.add(excel_df.loc[idx, 'PVENTA'])\n",
    "        #if pp : pp_set.add(pp[0])\n",
    "        #if len(pp_set) == 1 and bars: \n",
    "        #    excel_df.loc[idx, 'PVENTA'] = excel_df.loc[idx, 'PVENTA'] + ', ' + str(pp_set[0])\n",
    "        #elif len(pp_set) == 1 and not bars:\n",
    "        #    excel_df.loc[idx, 'PVENTA'] = str(pp_set[0])\n",
    "        #elif len(pp_set) > 1 and bars:\n",
    "        #    for i in pp_set:\n",
    "        #        excel_df.loc[idx, 'PVENTA'] = excel_df.loc[idx, 'PVENTA'] + ', ' + str(i)\n",
    "        #elif len(pp_set) > 1 and not bars:\n",
    "        #    excel_df.loc[idx, 'PVENTA'] = ''\n",
    "        #    for i in pp_set:\n",
    "        #        excel_df.loc[idx, 'PVENTA'] = excel_df.loc[idx, 'PVENTA'] + str(i) + ', '\n",
    "        #excel_df.loc[idx, 'PVENTA'] = str(pp[0])\n",
    "        #if len(pp_set) >= 1:\n",
    "        #    for i in pp_set:\n",
    "        #            excel_df.loc[idx, 'PVENTA'] = str(i) + ', '\n",
    "        if pp: \n",
    "            if bars:\n",
    "                excel_df.loc[idx, 'PVENTA'] = excel_df.loc[idx, 'PVENTA'] + ', ' + str(pp[0])\n",
    "            else:\n",
    "                excel_df.loc[idx, 'PVENTA'] = str(pp[0])\n",
    "        excel_df.loc[idx, 'Última Rev. Precios'] = datetime.date.today()"
   ]
  },
  {
   "cell_type": "code",
   "execution_count": 7,
   "metadata": {},
   "outputs": [],
   "source": [
    "with pd.ExcelWriter('updated-prices.xlsx') as writer:\n",
    "    excel_df.to_excel(writer)"
   ]
  }
 ],
 "metadata": {
  "kernelspec": {
   "display_name": "test1",
   "language": "python",
   "name": "python3"
  },
  "language_info": {
   "codemirror_mode": {
    "name": "ipython",
    "version": 3
   },
   "file_extension": ".py",
   "mimetype": "text/x-python",
   "name": "python",
   "nbconvert_exporter": "python",
   "pygments_lexer": "ipython3",
   "version": "3.10.4"
  },
  "orig_nbformat": 4
 },
 "nbformat": 4,
 "nbformat_minor": 2
}
