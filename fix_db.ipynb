{
 "cells": [
  {
   "attachments": {},
   "cell_type": "markdown",
   "metadata": {},
   "source": [
    "# An attempt to fix the db"
   ]
  },
  {
   "cell_type": "markdown",
   "metadata": {},
   "source": [
    "### The error:"
   ]
  },
  {
   "attachments": {},
   "cell_type": "markdown",
   "metadata": {},
   "source": [
    "UnicodeDecodeError: 'utf-8' codec can't decode byte 0xf1 in position 12: invalid continuation byte"
   ]
  },
  {
   "attachments": {},
   "cell_type": "markdown",
   "metadata": {},
   "source": [
    "### First occurance:"
   ]
  },
  {
   "attachments": {},
   "cell_type": "markdown",
   "metadata": {},
   "source": [
    "When executing:\n",
    "\n",
    "    cur.execute(\"SELECT ID, NOMBRE FROM DEPARTAMENTOS;\")\n",
    "    x = cur.fetchall()\n",
    "    dict_prov = dict((v, k) for k, v in x)\n",
    "    print(dict_prov)"
   ]
  },
  {
   "attachments": {},
   "cell_type": "markdown",
   "metadata": {},
   "source": [
    "### Location:"
   ]
  },
  {
   "attachments": {},
   "cell_type": "markdown",
   "metadata": {},
   "source": [
    "The error ocurred when invoking the name.\n",
    "\n",
    "The id of the dept didn't triggered the error.\n",
    "\n",
    "The following name ---> id triggered the error.\n",
    "\n",
    "    Tía Rosa             ---> 25\n",
    "    Tostadas Norteñas    ---> 36\n",
    "    Treviño              ---> 23\n",
    "    Peñafiel             ---> 20"
   ]
  },
  {
   "attachments": {},
   "cell_type": "markdown",
   "metadata": {},
   "source": [
    "### Strange:"
   ]
  },
  {
   "attachments": {},
   "cell_type": "markdown",
   "metadata": {},
   "source": [
    "> The main program of this db has no problem with the db\n",
    "\n",
    "> I used that command for over 4 months without having any problem.\n",
    "\n",
    "> Out of the blue it started throwing the error\n",
    "\n",
    "> I never manipulated the dept table in my program\n",
    "\n",
    "> A lot of the broken desc in the prod table I've never manipulated\n",
    "\n",
    "> Is as if the default encoding of the db changed all of a sudden\n",
    "\n",
    "> The problem presents on ñ, accents, backtick (`), and fraccion symbols (1/2)"
   ]
  },
  {
   "attachments": {},
   "cell_type": "markdown",
   "metadata": {},
   "source": [
    "### First Fix:"
   ]
  },
  {
   "attachments": {},
   "cell_type": "markdown",
   "metadata": {},
   "source": [
    "Hard-coding the name of the department fixed the issue:\n",
    "\n",
    "    cur.execute( \"UPDATE DEPARTAMENTOS SET NOMBRE = ? WHERE ID = 20;\", ('Peñafiel'.encode(\"utf-8\"),) )\n",
    "    cur.execute( \"UPDATE DEPARTAMENTOS SET NOMBRE = ? WHERE ID = 23;\", ('Treviño'.encode(\"utf-8\"),) )\n",
    "    cur.execute( \"UPDATE DEPARTAMENTOS SET NOMBRE = ? WHERE ID = 25;\", ('Tía Rosa'.encode(\"utf-8\"),) )\n",
    "    cur.execute( \"UPDATE DEPARTAMENTOS SET NOMBRE = ? WHERE ID = 36;\", ('Tostadas Norteñas'.encode(\"utf-8\"),) )\n",
    "    con.commit()"
   ]
  },
  {
   "attachments": {},
   "cell_type": "markdown",
   "metadata": {},
   "source": [
    "### Extending the fix to the rest of the db..."
   ]
  },
  {
   "cell_type": "code",
   "execution_count": 1,
   "metadata": {},
   "outputs": [],
   "source": [
    "# CONNECT \"localhost:C:/Users/casa/Desktop/DB-Helper/PDVDATA.FDB\" user 'SYSDBA' password 'masterkey';\n",
    "import pandas as pd\n",
    "import fdb\n",
    "import datetime\n",
    "import sys"
   ]
  },
  {
   "cell_type": "code",
   "execution_count": 2,
   "metadata": {},
   "outputs": [],
   "source": [
    "con = fdb.connect(dsn=\"localhost:C:/Users/casa/Desktop/DB-Helper/PDVDATA.FDB\", user='SYSDBA', password='masterkey')\n",
    "cur = con.cursor()"
   ]
  },
  {
   "cell_type": "code",
   "execution_count": 3,
   "metadata": {},
   "outputs": [
    {
     "ename": "UnicodeDecodeError",
     "evalue": "'utf-8' codec can't decode byte 0xf1 in position 2: invalid continuation byte",
     "output_type": "error",
     "traceback": [
      "\u001b[1;31m---------------------------------------------------------------------------\u001b[0m",
      "\u001b[1;31mUnicodeDecodeError\u001b[0m                        Traceback (most recent call last)",
      "Cell \u001b[1;32mIn[3], line 3\u001b[0m\n\u001b[0;32m      1\u001b[0m \u001b[39m# Trigger the error first\u001b[39;00m\n\u001b[0;32m      2\u001b[0m cur\u001b[39m.\u001b[39mexecute(\u001b[39m\"\u001b[39m\u001b[39mSELECT ID, NOMBRE FROM DEPARTAMENTOS;\u001b[39m\u001b[39m\"\u001b[39m)\n\u001b[1;32m----> 3\u001b[0m x \u001b[39m=\u001b[39m cur\u001b[39m.\u001b[39;49mfetchall()\n\u001b[0;32m      4\u001b[0m dict_prov \u001b[39m=\u001b[39m \u001b[39mdict\u001b[39m((v, k) \u001b[39mfor\u001b[39;00m k, v \u001b[39min\u001b[39;00m x)\n\u001b[0;32m      5\u001b[0m \u001b[39mprint\u001b[39m(dict_prov)\n",
      "File \u001b[1;32mc:\\Users\\casa\\miniconda3\\envs\\test1\\lib\\site-packages\\fdb\\fbcore.py:3813\u001b[0m, in \u001b[0;36mCursor.fetchall\u001b[1;34m(self)\u001b[0m\n\u001b[0;32m   3801\u001b[0m \u001b[39mdef\u001b[39;00m \u001b[39mfetchall\u001b[39m(\u001b[39mself\u001b[39m):\n\u001b[0;32m   3802\u001b[0m     \u001b[39m\"\"\"Fetch all (remaining) rows of a query result.\u001b[39;00m\n\u001b[0;32m   3803\u001b[0m \n\u001b[0;32m   3804\u001b[0m \u001b[39m    Returns:\u001b[39;00m\n\u001b[1;32m   (...)\u001b[0m\n\u001b[0;32m   3811\u001b[0m \u001b[39m            unknown status is returned by fetch operation.\u001b[39;00m\n\u001b[0;32m   3812\u001b[0m \u001b[39m    \"\"\"\u001b[39;00m\n\u001b[1;32m-> 3813\u001b[0m     \u001b[39mreturn\u001b[39;00m [row \u001b[39mfor\u001b[39;00m row \u001b[39min\u001b[39;00m \u001b[39mself\u001b[39m]\n",
      "File \u001b[1;32mc:\\Users\\casa\\miniconda3\\envs\\test1\\lib\\site-packages\\fdb\\fbcore.py:3813\u001b[0m, in \u001b[0;36m<listcomp>\u001b[1;34m(.0)\u001b[0m\n\u001b[0;32m   3801\u001b[0m \u001b[39mdef\u001b[39;00m \u001b[39mfetchall\u001b[39m(\u001b[39mself\u001b[39m):\n\u001b[0;32m   3802\u001b[0m     \u001b[39m\"\"\"Fetch all (remaining) rows of a query result.\u001b[39;00m\n\u001b[0;32m   3803\u001b[0m \n\u001b[0;32m   3804\u001b[0m \u001b[39m    Returns:\u001b[39;00m\n\u001b[1;32m   (...)\u001b[0m\n\u001b[0;32m   3811\u001b[0m \u001b[39m            unknown status is returned by fetch operation.\u001b[39;00m\n\u001b[0;32m   3812\u001b[0m \u001b[39m    \"\"\"\u001b[39;00m\n\u001b[1;32m-> 3813\u001b[0m     \u001b[39mreturn\u001b[39;00m [row \u001b[39mfor\u001b[39;00m row \u001b[39min\u001b[39;00m \u001b[39mself\u001b[39m]\n",
      "File \u001b[1;32mc:\\Users\\casa\\miniconda3\\envs\\test1\\lib\\site-packages\\fdb\\fbcore.py:3545\u001b[0m, in \u001b[0;36mCursor.next\u001b[1;34m(self)\u001b[0m\n\u001b[0;32m   3539\u001b[0m \u001b[39mdef\u001b[39;00m \u001b[39mnext\u001b[39m(\u001b[39mself\u001b[39m):\n\u001b[0;32m   3540\u001b[0m     \u001b[39m\"\"\"Return the next item from the container. Part of *iterator protocol*.\u001b[39;00m\n\u001b[0;32m   3541\u001b[0m \n\u001b[0;32m   3542\u001b[0m \u001b[39m    Raises:\u001b[39;00m\n\u001b[0;32m   3543\u001b[0m \u001b[39m        StopIteration: If there are no further items.\u001b[39;00m\n\u001b[0;32m   3544\u001b[0m \u001b[39m    \"\"\"\u001b[39;00m\n\u001b[1;32m-> 3545\u001b[0m     row \u001b[39m=\u001b[39m \u001b[39mself\u001b[39;49m\u001b[39m.\u001b[39;49mfetchone()\n\u001b[0;32m   3546\u001b[0m     \u001b[39mif\u001b[39;00m row:\n\u001b[0;32m   3547\u001b[0m         \u001b[39mreturn\u001b[39;00m row\n",
      "File \u001b[1;32mc:\\Users\\casa\\miniconda3\\envs\\test1\\lib\\site-packages\\fdb\\fbcore.py:3765\u001b[0m, in \u001b[0;36mCursor.fetchone\u001b[1;34m(self)\u001b[0m\n\u001b[0;32m   3753\u001b[0m \u001b[39m\"\"\"Fetch the next row of a query result set.\u001b[39;00m\n\u001b[0;32m   3754\u001b[0m \n\u001b[0;32m   3755\u001b[0m \u001b[39mReturns:\u001b[39;00m\n\u001b[1;32m   (...)\u001b[0m\n\u001b[0;32m   3762\u001b[0m \u001b[39m        unknown status is returned by fetch operation.\u001b[39;00m\n\u001b[0;32m   3763\u001b[0m \u001b[39m\"\"\"\u001b[39;00m\n\u001b[0;32m   3764\u001b[0m \u001b[39mif\u001b[39;00m \u001b[39mself\u001b[39m\u001b[39m.\u001b[39m_ps:\n\u001b[1;32m-> 3765\u001b[0m     \u001b[39mreturn\u001b[39;00m \u001b[39mself\u001b[39;49m\u001b[39m.\u001b[39;49m_ps\u001b[39m.\u001b[39;49m_fetchone()\n\u001b[0;32m   3766\u001b[0m \u001b[39melse\u001b[39;00m:\n\u001b[0;32m   3767\u001b[0m     \u001b[39mraise\u001b[39;00m ProgrammingError(\u001b[39m\"\u001b[39m\u001b[39mCannot fetch from this cursor because\u001b[39m\u001b[39m\"\u001b[39m\n\u001b[0;32m   3768\u001b[0m                            \u001b[39m\"\u001b[39m\u001b[39m it has not executed a statement.\u001b[39m\u001b[39m\"\u001b[39m)\n",
      "File \u001b[1;32mc:\\Users\\casa\\miniconda3\\envs\\test1\\lib\\site-packages\\fdb\\fbcore.py:3415\u001b[0m, in \u001b[0;36mPreparedStatement._fetchone\u001b[1;34m(self)\u001b[0m\n\u001b[0;32m   3409\u001b[0m \u001b[39mself\u001b[39m\u001b[39m.\u001b[39m_last_fetch_status \u001b[39m=\u001b[39m api\u001b[39m.\u001b[39misc_dsql_fetch(\n\u001b[0;32m   3410\u001b[0m     \u001b[39mself\u001b[39m\u001b[39m.\u001b[39m_isc_status,\n\u001b[0;32m   3411\u001b[0m     \u001b[39mself\u001b[39m\u001b[39m.\u001b[39m_stmt_handle,\n\u001b[0;32m   3412\u001b[0m     \u001b[39mself\u001b[39m\u001b[39m.\u001b[39m__sql_dialect,\n\u001b[0;32m   3413\u001b[0m     ctypes\u001b[39m.\u001b[39mcast(ctypes\u001b[39m.\u001b[39mpointer(\u001b[39mself\u001b[39m\u001b[39m.\u001b[39m_out_sqlda), XSQLDA_PTR))\n\u001b[0;32m   3414\u001b[0m \u001b[39mif\u001b[39;00m \u001b[39mself\u001b[39m\u001b[39m.\u001b[39m_last_fetch_status \u001b[39m==\u001b[39m \u001b[39m0\u001b[39m:\n\u001b[1;32m-> 3415\u001b[0m     \u001b[39mreturn\u001b[39;00m \u001b[39mself\u001b[39;49m\u001b[39m.\u001b[39;49m__xsqlda2tuple(\u001b[39mself\u001b[39;49m\u001b[39m.\u001b[39;49m_out_sqlda)\n\u001b[0;32m   3416\u001b[0m \u001b[39melif\u001b[39;00m \u001b[39mself\u001b[39m\u001b[39m.\u001b[39m_last_fetch_status \u001b[39m==\u001b[39m \u001b[39mself\u001b[39m\u001b[39m.\u001b[39mRESULT_SET_EXHAUSTED:\n\u001b[0;32m   3417\u001b[0m     \u001b[39mself\u001b[39m\u001b[39m.\u001b[39m_free_handle()\n",
      "File \u001b[1;32mc:\\Users\\casa\\miniconda3\\envs\\test1\\lib\\site-packages\\fdb\\fbcore.py:2733\u001b[0m, in \u001b[0;36mPreparedStatement.__xsqlda2tuple\u001b[1;34m(self, xsqlda)\u001b[0m\n\u001b[0;32m   2730\u001b[0m         value \u001b[39m=\u001b[39m \u001b[39mstr\u001b[39m(sqlvar\u001b[39m.\u001b[39msqldata[\u001b[39m2\u001b[39m:\u001b[39m2\u001b[39m \u001b[39m+\u001b[39m size])\n\u001b[0;32m   2731\u001b[0m     \u001b[39mif\u001b[39;00m ((\u001b[39mself\u001b[39m\u001b[39m.\u001b[39m__charset \u001b[39mor\u001b[39;00m PYTHON_MAJOR_VER \u001b[39m==\u001b[39m \u001b[39m3\u001b[39m) \u001b[39mand\u001b[39;00m\n\u001b[0;32m   2732\u001b[0m         sqlvar\u001b[39m.\u001b[39msqlsubtype \u001b[39m!=\u001b[39m \u001b[39m1\u001b[39m):   \u001b[39m# non OCTETS\u001b[39;00m\n\u001b[1;32m-> 2733\u001b[0m         value \u001b[39m=\u001b[39m b2u(value, \u001b[39mself\u001b[39;49m\u001b[39m.\u001b[39;49m__python_charset)\n\u001b[0;32m   2734\u001b[0m \u001b[39melif\u001b[39;00m vartype \u001b[39m==\u001b[39m SQL_BOOLEAN:\n\u001b[0;32m   2735\u001b[0m     value \u001b[39m=\u001b[39m \u001b[39mbool\u001b[39m(bytes_to_int(sqlvar\u001b[39m.\u001b[39msqldata\u001b[39m.\u001b[39mcontents\u001b[39m.\u001b[39mvalue))\n",
      "File \u001b[1;32mc:\\Users\\casa\\miniconda3\\envs\\test1\\lib\\site-packages\\fdb\\fbcore.py:489\u001b[0m, in \u001b[0;36mb2u\u001b[1;34m(st, charset)\u001b[0m\n\u001b[0;32m    487\u001b[0m \u001b[39m\"\u001b[39m\u001b[39mDecode to unicode if charset is defined. For conversion of result set data.\u001b[39m\u001b[39m\"\u001b[39m\n\u001b[0;32m    488\u001b[0m \u001b[39mif\u001b[39;00m charset:\n\u001b[1;32m--> 489\u001b[0m     \u001b[39mreturn\u001b[39;00m st\u001b[39m.\u001b[39;49mdecode(charset)\n\u001b[0;32m    490\u001b[0m \u001b[39melse\u001b[39;00m:\n\u001b[0;32m    491\u001b[0m     \u001b[39mreturn\u001b[39;00m st\n",
      "\u001b[1;31mUnicodeDecodeError\u001b[0m: 'utf-8' codec can't decode byte 0xf1 in position 2: invalid continuation byte"
     ]
    }
   ],
   "source": [
    "# Trigger the error first\n",
    "cur.execute(\"SELECT ID, NOMBRE FROM DEPARTAMENTOS;\")\n",
    "x = cur.fetchall()\n",
    "dict_prov = dict((v, k) for k, v in x)\n",
    "print(dict_prov)"
   ]
  },
  {
   "attachments": {},
   "cell_type": "markdown",
   "metadata": {},
   "source": [
    "##### Fixing the dept table first"
   ]
  },
  {
   "cell_type": "code",
   "execution_count": 4,
   "metadata": {},
   "outputs": [],
   "source": [
    "cur.execute( \"UPDATE DEPARTAMENTOS SET NOMBRE = ? WHERE ID = 20;\", ('Peñafiel'.encode(\"utf-8\"),) )\n",
    "cur.execute( \"UPDATE DEPARTAMENTOS SET NOMBRE = ? WHERE ID = 23;\", ('Treviño'.encode(\"utf-8\"),) )\n",
    "cur.execute( \"UPDATE DEPARTAMENTOS SET NOMBRE = ? WHERE ID = 25;\", ('Tía Rosa'.encode(\"utf-8\"),) )\n",
    "cur.execute( \"UPDATE DEPARTAMENTOS SET NOMBRE = ? WHERE ID = 36;\", ('Tostadas Norteñas'.encode(\"utf-8\"),) )\n",
    "con.commit()"
   ]
  },
  {
   "cell_type": "code",
   "execution_count": 5,
   "metadata": {},
   "outputs": [
    {
     "name": "stdout",
     "output_type": "stream",
     "text": [
      "{'- Sin Departamento -': 3, 'Sin Departamento': 2, 'Productos Comunes': 5, 'Bimbo Blanco': 6, 'Bimbo Dulce': 7, 'Barcel': 8, 'Sabritas': 9, 'Leo': 10, 'Encanto': 11, 'Bokados': 12, 'Marinela Pastel': 13, 'Ricolino': 14, 'Lala': 15, 'Coca-Cola': 16, 'Pepsi': 17, 'Bonafont Botella': 18, 'bonafon garrafon (Eliminado 08/12/2022)': 19, 'Peñafiel': 20, 'valle (Eliminado 08/12/2022)': 21, 'Gamesa': 22, 'Treviño': 23, 'tang (Eliminado 08/12/2022)': 24, 'Tía Rosa': 25, 'Tostitos': 26, 'Sigma': 27, 'Verdura': 28, '59 (Eliminado 08/12/2022)': 29, 'Del Valle': 30, 'Pall Mall': 31, 'Bonafont Garrafon': 32, 'Varios': 33, 'Bimbo Totopos': 34, 'Marinela Galleta': 35, 'Tostadas Norteñas': 36, 'Especias': 37, 'Hielati': 38, 'Kinder': 39, 'Marlboro': 40}\n"
     ]
    }
   ],
   "source": [
    "# The same command no error\n",
    "cur.execute(\"SELECT ID, NOMBRE FROM DEPARTAMENTOS;\")\n",
    "x = cur.fetchall()\n",
    "dict_prov = dict((v, k) for k, v in x)\n",
    "print(dict_prov)"
   ]
  },
  {
   "cell_type": "code",
   "execution_count": 23,
   "metadata": {},
   "outputs": [
    {
     "name": "stdout",
     "output_type": "stream",
     "text": [
      "The end of records. Index : --->  6476\n",
      "the error count ---->  192\n",
      "the error indexes ----->  [86, 168, 237, 312, 419, 420, 472, 489, 490, 491, 538, 739, 740, 743, 783, 808, 809, 810, 812, 816, 934, 976, 1066, 1260, 1324, 1327, 1329, 1330, 1331, 1332, 1333, 1334, 1335, 1336, 1337, 1338, 1339, 1510, 1512, 1530, 1534, 1566, 1625, 1684, 1803, 1834, 1865, 1866, 1913, 1915, 1931, 1950, 2174, 2461, 2468, 2469, 2496, 2497, 2498, 2544, 2549, 2590, 2593, 2594, 2755, 2822, 2875, 2876, 2955, 2966, 2967, 2969, 2970, 2971, 2972, 2973, 2974, 2975, 2976, 2977, 2978, 2979, 2980, 2981, 2982, 2983, 2984, 2985, 2986, 2987, 2990, 2991, 2992, 2993, 2994, 2995, 2997, 3000, 3001, 3003, 3026, 3033, 3041, 3042, 3044, 3046, 3050, 3054, 3055, 3091, 3092, 3093, 3094, 3095, 3096, 3097, 3142, 3216, 3265, 3379, 3430, 3431, 3446, 3455, 3605, 3678, 3757, 3820, 3851, 3874, 3886, 3949, 4063, 4126, 4231, 4298, 4394, 4395, 4486, 4571, 4618, 4649, 4667, 4691, 4713, 4744, 4757, 4916, 4974, 5049, 5064, 5275, 5307, 5362, 5406, 5419, 5426, 5493, 5540, 5593, 5599, 5673, 5754, 5776, 5793, 5806, 5833, 5862, 5884, 5947, 6000, 6015, 6023, 6091, 6131, 6152, 6163, 6203, 6290, 6294, 6345, 6346, 6366, 6386, 6387, 6398, 6399, 6401, 6417, 6449, 6464, 6467]\n"
     ]
    }
   ],
   "source": [
    "# Other locations that trigger the error (productos table)\n",
    "total_rows = 0\n",
    "cur.execute(\"SELECT * FROM PRODUCTOS;\")\n",
    "err_count = 0\n",
    "err_indexes = []\n",
    "for i in range(10000):\n",
    "    try:\n",
    "        x = cur.fetchone()\n",
    "        #print(x)\n",
    "        if not x:\n",
    "            print('The end of records. Index : ---> ', i)\n",
    "            total_rows = i\n",
    "            break\n",
    "    except Exception as err:\n",
    "        err_count += 1\n",
    "        err_indexes.append(i)\n",
    "        #print('Error on index ---> ', i)\n",
    "        #print('The error ---_> ', err)\n",
    "        continue\n",
    "print('the error count ----> ', err_count)\n",
    "print('the error indexes -----> ', err_indexes)"
   ]
  },
  {
   "cell_type": "code",
   "execution_count": 24,
   "metadata": {},
   "outputs": [
    {
     "name": "stdout",
     "output_type": "stream",
     "text": [
      "bad code on index --->  2875\n",
      "bad code on index --->  3886\n",
      "the code where desc is broken ---->  ['7501073841246', '7501059200012', '56100012399', '7501005136860', '7501000133031', '7501000154005', '7501000113095', '7501030492955', '7501000113033', '7501000112609', '7501621050038', '7501011395213', '7501003123114', '7501003123213', '7501017005314', '7503006910036', '7501003128331', '7501052476209', '7503006910074', '7501017050765', '7501002600425', '21136019148', '7501041204479', '7501017003167', '7501017005345', '7501025414009', '7501025408152', '7501025408282', '7501025408411', '7501025408718', '7501025413019', '7501025414153', '7501025413002', '7501025408251', '7501025408435', '7501025409555', '7501025409548', '7501003152077', '7501017004416', '7501017042289', '7501002663963', '7501000636129', '38287086004', '7501020511956', '7501056900854', '34000313051', '8018190024098', '8018190024104', '7501017050741', '7501017004003', '7501441612126', '75011635', '7501040490279', '7501017006199', '7501017005291', '7501017004195', '7501017005093', '7501003336323', '7501017005109', '7501000150434', '7501000656868', '7501017005840', '7501003150264', '7501017005369', '7501184600077', '7501001128852', '7501017361083', '7501000153503', '7501073831940', '7501073800939', '7501073830523', '7501073830530', '7501073830554', '7501073830578', '7501073830585', '7501073831155', '7501073831162', '7501073831179', '7501073831209', '7501073831223', '7501073831551', '7501073831575', '7501073831582', '7501073831599', '7501073836549', '7501198350456', '7501073830059', '7501073830097', '7501073830103', '7501073831995', '7501073825079', '7501073831971', '7501073831919', '78000063523', '7501073800946', '7501073800915', '7501073800922', '7501073831889', '7501073831476', '7501031323906', '7501031349623', '7501031311798', '7501031360017', '7501031346653', '7501071120206', '7501007701301', '751425609124', '751425609162', '7501000390885', '7501003125309', '7501017003396', '7501017003334', '7503000054217', '58897091205', '759686101128', '7501011315273', '7501017005611', '7501017004027', '7501011103313', '7501017006083', '7501017003204', '7501017005079', '7501017005123', '70662140055', '840004088006', '7501000144303', '7501054951346', '690528000011', '7501054906186', '7501003125323', '7501000232963', '7501040091421', '706460243963', '724611552511', '7501073839311', '7501073839335', '7501044806014', 'RO', '7501073840331', '7622210253637', '7501073840379', '7501032395834', '7501073840355', '7501020543056', '7501073840188', '7501032396282', '7502256350029', '7501025440343', '7622210254610', '7501073841253', '7501030459330', '757528025489', '7501073841901', '7501073842274', '758104005635', '7501073800854', '7501020554946', '7501073842670', '7501024004072', '7501198353105', '7501073842717', '7501198355109', '7500478014576', '7501025440381', '758104007097', '7501017006915', '7501055367443', '7503012608002', '7503030374309', '7500463998928', '7501073838352', 'R90217', '7500478024971', '7501441615127', '7503031361940', '7501058635372', '7503018023137', '7500326103360', '75076405', '7503031287479', 'cam', 've', 'vd', 't1', 't2', 'td', 'ja', '7500810014004', '7622210572974', '7503023836135']\n"
     ]
    }
   ],
   "source": [
    "# Get the codes where possible\n",
    "cur.execute(\"SELECT CODIGO FROM PRODUCTOS\")\n",
    "code_err = []\n",
    "bad_code = []\n",
    "for i in range(total_rows):\n",
    "    try:\n",
    "        x = cur.fetchone()\n",
    "        if i in err_indexes:\n",
    "            code_err.append(x[0])\n",
    "    except:\n",
    "        print('bad code on index ---> ', i)\n",
    "        bad_code.append(i)\n",
    "print('the code where desc is broken ----> ', code_err)\n"
   ]
  },
  {
   "cell_type": "code",
   "execution_count": 25,
   "metadata": {},
   "outputs": [
    {
     "name": "stdout",
     "output_type": "stream",
     "text": [
      "Is the desc error count the same as the  length of the code err list? --->  True\n",
      "The total number of errors:  192\n",
      "The number of errors on description:  190\n",
      "The number of errors on code:  2\n"
     ]
    }
   ],
   "source": [
    "# Make sure the errors are on the desc and not somewhere else\n",
    "desc_err_count = 0\n",
    "for code in code_err:\n",
    "    cur.execute(\"SELECT DESCRIPCION FROM PRODUCTOS WHERE CODIGO = ?;\", (code,))\n",
    "    try:\n",
    "        x = cur.fetchone()\n",
    "        print('no error on desc from code --->', code)\n",
    "    except:\n",
    "        desc_err_count += 1\n",
    "print('Is the desc error count the same as the  length of the code err list? ---> ', (desc_err_count == len(code_err)))\n",
    "print('The total number of errors: ', err_count)\n",
    "print('The number of errors on description: ', desc_err_count)\n",
    "print('The number of errors on code: ', len(bad_code))"
   ]
  },
  {
   "attachments": {},
   "cell_type": "markdown",
   "metadata": {},
   "source": [
    "#### 321 Errors... \n",
    "\n",
    "I can lower that number a bit by referencing another db"
   ]
  },
  {
   "cell_type": "code",
   "execution_count": 16,
   "metadata": {},
   "outputs": [
    {
     "name": "stderr",
     "output_type": "stream",
     "text": [
      "c:\\Users\\casa\\miniconda3\\envs\\test1\\lib\\site-packages\\openpyxl\\worksheet\\_reader.py:312: UserWarning: Unknown extension is not supported and will be removed\n",
      "  warn(msg)\n"
     ]
    }
   ],
   "source": [
    "excel_df = pd.read_excel('Provedores Todos.xlsm', sheet_name='Datos', index_col=0, na_values='--', skipfooter=10, usecols='A:AB')"
   ]
  },
  {
   "cell_type": "code",
   "execution_count": 17,
   "metadata": {},
   "outputs": [
    {
     "data": {
      "text/html": [
       "<div>\n",
       "<style scoped>\n",
       "    .dataframe tbody tr th:only-of-type {\n",
       "        vertical-align: middle;\n",
       "    }\n",
       "\n",
       "    .dataframe tbody tr th {\n",
       "        vertical-align: top;\n",
       "    }\n",
       "\n",
       "    .dataframe thead th {\n",
       "        text-align: right;\n",
       "    }\n",
       "</style>\n",
       "<table border=\"1\" class=\"dataframe\">\n",
       "  <thead>\n",
       "    <tr style=\"text-align: right;\">\n",
       "      <th></th>\n",
       "      <th>Provedor</th>\n",
       "      <th>Descripción</th>\n",
       "      <th>Producto</th>\n",
       "      <th>Subtotal</th>\n",
       "      <th>Costo Unitario</th>\n",
       "      <th>IVA</th>\n",
       "      <th>IEPS</th>\n",
       "      <th>Descuento</th>\n",
       "      <th>Total</th>\n",
       "      <th>Precio al Público</th>\n",
       "      <th>...</th>\n",
       "      <th>DiferenciaM</th>\n",
       "      <th>Última Rev. Costos</th>\n",
       "      <th>Última Rev. Precios</th>\n",
       "      <th>Clave Provedor</th>\n",
       "      <th>Código de Barras</th>\n",
       "      <th>Código SuperFuentes</th>\n",
       "      <th>Biblia</th>\n",
       "      <th>DiferenciaB</th>\n",
       "      <th>MargenB</th>\n",
       "      <th>Sugerido</th>\n",
       "    </tr>\n",
       "    <tr>\n",
       "      <th>Num. De Registro</th>\n",
       "      <th></th>\n",
       "      <th></th>\n",
       "      <th></th>\n",
       "      <th></th>\n",
       "      <th></th>\n",
       "      <th></th>\n",
       "      <th></th>\n",
       "      <th></th>\n",
       "      <th></th>\n",
       "      <th></th>\n",
       "      <th></th>\n",
       "      <th></th>\n",
       "      <th></th>\n",
       "      <th></th>\n",
       "      <th></th>\n",
       "      <th></th>\n",
       "      <th></th>\n",
       "      <th></th>\n",
       "      <th></th>\n",
       "      <th></th>\n",
       "      <th></th>\n",
       "    </tr>\n",
       "  </thead>\n",
       "  <tbody>\n",
       "    <tr>\n",
       "      <th>1</th>\n",
       "      <td>Barcel</td>\n",
       "      <td>Chips Jalapeño 50g.</td>\n",
       "      <td>Chips Jalapeño</td>\n",
       "      <td>13.222</td>\n",
       "      <td>14.27976</td>\n",
       "      <td>0.0</td>\n",
       "      <td>1.05776</td>\n",
       "      <td>0.0</td>\n",
       "      <td>14.27976</td>\n",
       "      <td>18.0</td>\n",
       "      <td>...</td>\n",
       "      <td>-0.008953</td>\n",
       "      <td>2023-03-11</td>\n",
       "      <td>2023-01-09</td>\n",
       "      <td>125121</td>\n",
       "      <td>7501000264773, 757528028985, 757528042608</td>\n",
       "      <td>NaN</td>\n",
       "      <td>12.6036</td>\n",
       "      <td>1.67616</td>\n",
       "      <td>0.428163</td>\n",
       "      <td>17</td>\n",
       "    </tr>\n",
       "    <tr>\n",
       "      <th>2</th>\n",
       "      <td>Barcel</td>\n",
       "      <td>Chips Sal 50g.</td>\n",
       "      <td>Chips Sal</td>\n",
       "      <td>13.222</td>\n",
       "      <td>14.27976</td>\n",
       "      <td>0.0</td>\n",
       "      <td>1.05776</td>\n",
       "      <td>0.0</td>\n",
       "      <td>14.27976</td>\n",
       "      <td>18.0</td>\n",
       "      <td>...</td>\n",
       "      <td>-0.008953</td>\n",
       "      <td>2023-03-11</td>\n",
       "      <td>2023-01-09</td>\n",
       "      <td>127920</td>\n",
       "      <td>757528042592, 7501000264049, 7500810005019</td>\n",
       "      <td>NaN</td>\n",
       "      <td>12.6036</td>\n",
       "      <td>1.67616</td>\n",
       "      <td>0.428163</td>\n",
       "      <td>17</td>\n",
       "    </tr>\n",
       "    <tr>\n",
       "      <th>3</th>\n",
       "      <td>Barcel</td>\n",
       "      <td>Chips Adobadas 60g.</td>\n",
       "      <td>Chips Adobadas 60g.</td>\n",
       "      <td>13.222</td>\n",
       "      <td>14.27976</td>\n",
       "      <td>0.0</td>\n",
       "      <td>1.05776</td>\n",
       "      <td>0.0</td>\n",
       "      <td>14.27976</td>\n",
       "      <td>18.0</td>\n",
       "      <td>...</td>\n",
       "      <td>-0.008953</td>\n",
       "      <td>2023-03-11</td>\n",
       "      <td>2023-01-09</td>\n",
       "      <td>NaN</td>\n",
       "      <td>7503028643745</td>\n",
       "      <td>NaN</td>\n",
       "      <td>12.6036</td>\n",
       "      <td>1.67616</td>\n",
       "      <td>0.428163</td>\n",
       "      <td>17</td>\n",
       "    </tr>\n",
       "    <tr>\n",
       "      <th>4</th>\n",
       "      <td>Barcel</td>\n",
       "      <td>Chips Fuego 50g.</td>\n",
       "      <td>Chips Fuego</td>\n",
       "      <td>13.222</td>\n",
       "      <td>14.27976</td>\n",
       "      <td>0.0</td>\n",
       "      <td>1.05776</td>\n",
       "      <td>0.0</td>\n",
       "      <td>14.27976</td>\n",
       "      <td>18.0</td>\n",
       "      <td>...</td>\n",
       "      <td>-0.008953</td>\n",
       "      <td>2023-03-11</td>\n",
       "      <td>2023-01-09</td>\n",
       "      <td>127943</td>\n",
       "      <td>7503030199681, 7500810005491</td>\n",
       "      <td>NaN</td>\n",
       "      <td>12.6036</td>\n",
       "      <td>1.67616</td>\n",
       "      <td>0.428163</td>\n",
       "      <td>17</td>\n",
       "    </tr>\n",
       "    <tr>\n",
       "      <th>5</th>\n",
       "      <td>Barcel</td>\n",
       "      <td>Chips Habanero 50g.</td>\n",
       "      <td>Chips Habanero</td>\n",
       "      <td>13.222</td>\n",
       "      <td>14.27976</td>\n",
       "      <td>0.0</td>\n",
       "      <td>1.05776</td>\n",
       "      <td>0.0</td>\n",
       "      <td>14.27976</td>\n",
       "      <td>18.0</td>\n",
       "      <td>...</td>\n",
       "      <td>0.260525</td>\n",
       "      <td>2023-03-11</td>\n",
       "      <td>NaT</td>\n",
       "      <td>128471</td>\n",
       "      <td>7500810004999</td>\n",
       "      <td>NaN</td>\n",
       "      <td>NaN</td>\n",
       "      <td>14.27976</td>\n",
       "      <td>NaN</td>\n",
       "      <td>17</td>\n",
       "    </tr>\n",
       "    <tr>\n",
       "      <th>...</th>\n",
       "      <td>...</td>\n",
       "      <td>...</td>\n",
       "      <td>...</td>\n",
       "      <td>...</td>\n",
       "      <td>...</td>\n",
       "      <td>...</td>\n",
       "      <td>...</td>\n",
       "      <td>...</td>\n",
       "      <td>...</td>\n",
       "      <td>...</td>\n",
       "      <td>...</td>\n",
       "      <td>...</td>\n",
       "      <td>...</td>\n",
       "      <td>...</td>\n",
       "      <td>...</td>\n",
       "      <td>...</td>\n",
       "      <td>...</td>\n",
       "      <td>...</td>\n",
       "      <td>...</td>\n",
       "      <td>...</td>\n",
       "      <td>...</td>\n",
       "    </tr>\n",
       "    <tr>\n",
       "      <th>1104</th>\n",
       "      <td>Verdura</td>\n",
       "      <td>Pepino Kg.</td>\n",
       "      <td>Pepino Kg.</td>\n",
       "      <td>18.000</td>\n",
       "      <td>18.00000</td>\n",
       "      <td>0.0</td>\n",
       "      <td>0.00000</td>\n",
       "      <td>0.0</td>\n",
       "      <td>18.00000</td>\n",
       "      <td>46.0</td>\n",
       "      <td>...</td>\n",
       "      <td>0.555556</td>\n",
       "      <td>2022-05-26</td>\n",
       "      <td>2023-01-09</td>\n",
       "      <td>NaN</td>\n",
       "      <td>NaN</td>\n",
       "      <td>pe</td>\n",
       "      <td>16.0000</td>\n",
       "      <td>2.00000</td>\n",
       "      <td>1.875000</td>\n",
       "      <td>NaN</td>\n",
       "    </tr>\n",
       "    <tr>\n",
       "      <th>1105</th>\n",
       "      <td>Verdura</td>\n",
       "      <td>Repollo Kg.</td>\n",
       "      <td>Repollo Kg.</td>\n",
       "      <td>12.000</td>\n",
       "      <td>12.00000</td>\n",
       "      <td>0.0</td>\n",
       "      <td>0.00000</td>\n",
       "      <td>0.0</td>\n",
       "      <td>12.00000</td>\n",
       "      <td>28.0</td>\n",
       "      <td>...</td>\n",
       "      <td>0.000000</td>\n",
       "      <td>2022-05-26</td>\n",
       "      <td>2023-01-09</td>\n",
       "      <td>NaN</td>\n",
       "      <td>NaN</td>\n",
       "      <td>re</td>\n",
       "      <td>9.0000</td>\n",
       "      <td>3.00000</td>\n",
       "      <td>2.111111</td>\n",
       "      <td>NaN</td>\n",
       "    </tr>\n",
       "    <tr>\n",
       "      <th>1106</th>\n",
       "      <td>Verdura</td>\n",
       "      <td>Serrano Kg.</td>\n",
       "      <td>Serrano Kg.</td>\n",
       "      <td>23.000</td>\n",
       "      <td>23.00000</td>\n",
       "      <td>0.0</td>\n",
       "      <td>0.00000</td>\n",
       "      <td>0.0</td>\n",
       "      <td>23.00000</td>\n",
       "      <td>82.0</td>\n",
       "      <td>...</td>\n",
       "      <td>-0.347826</td>\n",
       "      <td>2022-05-26</td>\n",
       "      <td>2023-01-09</td>\n",
       "      <td>NaN</td>\n",
       "      <td>NaN</td>\n",
       "      <td>se</td>\n",
       "      <td>17.0000</td>\n",
       "      <td>6.00000</td>\n",
       "      <td>3.823529</td>\n",
       "      <td>NaN</td>\n",
       "    </tr>\n",
       "    <tr>\n",
       "      <th>1107</th>\n",
       "      <td>Verdura</td>\n",
       "      <td>Tomate Kg.</td>\n",
       "      <td>Tomate Kg.</td>\n",
       "      <td>31.000</td>\n",
       "      <td>31.00000</td>\n",
       "      <td>0.0</td>\n",
       "      <td>0.00000</td>\n",
       "      <td>0.0</td>\n",
       "      <td>31.00000</td>\n",
       "      <td>39.0</td>\n",
       "      <td>...</td>\n",
       "      <td>-0.341935</td>\n",
       "      <td>2022-05-26</td>\n",
       "      <td>2023-01-09</td>\n",
       "      <td>NaN</td>\n",
       "      <td>NaN</td>\n",
       "      <td>to</td>\n",
       "      <td>11.0000</td>\n",
       "      <td>20.00000</td>\n",
       "      <td>2.545455</td>\n",
       "      <td>NaN</td>\n",
       "    </tr>\n",
       "    <tr>\n",
       "      <th>1108</th>\n",
       "      <td>Verdura</td>\n",
       "      <td>Zanahoria Kg.</td>\n",
       "      <td>Zanahoria Kg.</td>\n",
       "      <td>14.000</td>\n",
       "      <td>14.00000</td>\n",
       "      <td>0.0</td>\n",
       "      <td>0.00000</td>\n",
       "      <td>0.0</td>\n",
       "      <td>14.00000</td>\n",
       "      <td>21.0</td>\n",
       "      <td>...</td>\n",
       "      <td>0.000000</td>\n",
       "      <td>2022-05-26</td>\n",
       "      <td>2023-01-09</td>\n",
       "      <td>NaN</td>\n",
       "      <td>NaN</td>\n",
       "      <td>za</td>\n",
       "      <td>13.0000</td>\n",
       "      <td>1.00000</td>\n",
       "      <td>0.615385</td>\n",
       "      <td>NaN</td>\n",
       "    </tr>\n",
       "  </tbody>\n",
       "</table>\n",
       "<p>1108 rows × 27 columns</p>\n",
       "</div>"
      ],
      "text/plain": [
       "                 Provedor          Descripción             Producto  Subtotal  \\\n",
       "Num. De Registro                                                                \n",
       "1                  Barcel  Chips Jalapeño 50g.       Chips Jalapeño    13.222   \n",
       "2                  Barcel       Chips Sal 50g.            Chips Sal    13.222   \n",
       "3                  Barcel  Chips Adobadas 60g.  Chips Adobadas 60g.    13.222   \n",
       "4                  Barcel     Chips Fuego 50g.          Chips Fuego    13.222   \n",
       "5                  Barcel  Chips Habanero 50g.       Chips Habanero    13.222   \n",
       "...                   ...                  ...                  ...       ...   \n",
       "1104              Verdura           Pepino Kg.           Pepino Kg.    18.000   \n",
       "1105              Verdura          Repollo Kg.          Repollo Kg.    12.000   \n",
       "1106              Verdura          Serrano Kg.          Serrano Kg.    23.000   \n",
       "1107              Verdura           Tomate Kg.           Tomate Kg.    31.000   \n",
       "1108              Verdura        Zanahoria Kg.        Zanahoria Kg.    14.000   \n",
       "\n",
       "                  Costo Unitario  IVA     IEPS  Descuento     Total  \\\n",
       "Num. De Registro                                                      \n",
       "1                       14.27976  0.0  1.05776        0.0  14.27976   \n",
       "2                       14.27976  0.0  1.05776        0.0  14.27976   \n",
       "3                       14.27976  0.0  1.05776        0.0  14.27976   \n",
       "4                       14.27976  0.0  1.05776        0.0  14.27976   \n",
       "5                       14.27976  0.0  1.05776        0.0  14.27976   \n",
       "...                          ...  ...      ...        ...       ...   \n",
       "1104                    18.00000  0.0  0.00000        0.0  18.00000   \n",
       "1105                    12.00000  0.0  0.00000        0.0  12.00000   \n",
       "1106                    23.00000  0.0  0.00000        0.0  23.00000   \n",
       "1107                    31.00000  0.0  0.00000        0.0  31.00000   \n",
       "1108                    14.00000  0.0  0.00000        0.0  14.00000   \n",
       "\n",
       "                  Precio al Público  ...  DiferenciaM  Última Rev. Costos  \\\n",
       "Num. De Registro                     ...                                    \n",
       "1                              18.0  ...    -0.008953          2023-03-11   \n",
       "2                              18.0  ...    -0.008953          2023-03-11   \n",
       "3                              18.0  ...    -0.008953          2023-03-11   \n",
       "4                              18.0  ...    -0.008953          2023-03-11   \n",
       "5                              18.0  ...     0.260525          2023-03-11   \n",
       "...                             ...  ...          ...                 ...   \n",
       "1104                           46.0  ...     0.555556          2022-05-26   \n",
       "1105                           28.0  ...     0.000000          2022-05-26   \n",
       "1106                           82.0  ...    -0.347826          2022-05-26   \n",
       "1107                           39.0  ...    -0.341935          2022-05-26   \n",
       "1108                           21.0  ...     0.000000          2022-05-26   \n",
       "\n",
       "                  Última Rev. Precios  Clave Provedor  \\\n",
       "Num. De Registro                                        \n",
       "1                          2023-01-09          125121   \n",
       "2                          2023-01-09          127920   \n",
       "3                          2023-01-09             NaN   \n",
       "4                          2023-01-09          127943   \n",
       "5                                 NaT          128471   \n",
       "...                               ...             ...   \n",
       "1104                       2023-01-09             NaN   \n",
       "1105                       2023-01-09             NaN   \n",
       "1106                       2023-01-09             NaN   \n",
       "1107                       2023-01-09             NaN   \n",
       "1108                       2023-01-09             NaN   \n",
       "\n",
       "                                            Código de Barras  \\\n",
       "Num. De Registro                                               \n",
       "1                  7501000264773, 757528028985, 757528042608   \n",
       "2                 757528042592, 7501000264049, 7500810005019   \n",
       "3                                              7503028643745   \n",
       "4                               7503030199681, 7500810005491   \n",
       "5                                              7500810004999   \n",
       "...                                                      ...   \n",
       "1104                                                     NaN   \n",
       "1105                                                     NaN   \n",
       "1106                                                     NaN   \n",
       "1107                                                     NaN   \n",
       "1108                                                     NaN   \n",
       "\n",
       "                  Código SuperFuentes   Biblia  DiferenciaB   MargenB Sugerido  \n",
       "Num. De Registro                                                                \n",
       "1                                 NaN  12.6036      1.67616  0.428163       17  \n",
       "2                                 NaN  12.6036      1.67616  0.428163       17  \n",
       "3                                 NaN  12.6036      1.67616  0.428163       17  \n",
       "4                                 NaN  12.6036      1.67616  0.428163       17  \n",
       "5                                 NaN      NaN     14.27976       NaN       17  \n",
       "...                               ...      ...          ...       ...      ...  \n",
       "1104                               pe  16.0000      2.00000  1.875000      NaN  \n",
       "1105                               re   9.0000      3.00000  2.111111      NaN  \n",
       "1106                               se  17.0000      6.00000  3.823529      NaN  \n",
       "1107                               to  11.0000     20.00000  2.545455      NaN  \n",
       "1108                               za  13.0000      1.00000  0.615385      NaN  \n",
       "\n",
       "[1108 rows x 27 columns]"
      ]
     },
     "execution_count": 17,
     "metadata": {},
     "output_type": "execute_result"
    }
   ],
   "source": [
    "excel_df"
   ]
  },
  {
   "cell_type": "code",
   "execution_count": 18,
   "metadata": {},
   "outputs": [
    {
     "name": "stdout",
     "output_type": "stream",
     "text": [
      "<class 'pandas.core.frame.DataFrame'>\n",
      "Int64Index: 1108 entries, 1 to 1108\n",
      "Data columns (total 27 columns):\n",
      " #   Column               Non-Null Count  Dtype         \n",
      "---  ------               --------------  -----         \n",
      " 0   Provedor             1108 non-null   object        \n",
      " 1   Descripción          1108 non-null   object        \n",
      " 2   Producto             1108 non-null   object        \n",
      " 3   Subtotal             1020 non-null   float64       \n",
      " 4   Costo Unitario       1107 non-null   float64       \n",
      " 5   IVA                  1107 non-null   float64       \n",
      " 6   IEPS                 1107 non-null   float64       \n",
      " 7   Descuento            1107 non-null   float64       \n",
      " 8   Total                1107 non-null   float64       \n",
      " 9   Precio al Público    1091 non-null   float64       \n",
      " 10  Margen               1017 non-null   float64       \n",
      " 11  Utilidad Unitaria    1106 non-null   float64       \n",
      " 12  Utilidad por pedido  1106 non-null   float64       \n",
      " 13  Piezas               1107 non-null   float64       \n",
      " 14  Costos anteriores    969 non-null    float64       \n",
      " 15  DiferenciaC          1108 non-null   float64       \n",
      " 16  Margen Anterior      963 non-null    float64       \n",
      " 17  DiferenciaM          1012 non-null   float64       \n",
      " 18  Última Rev. Costos   983 non-null    datetime64[ns]\n",
      " 19  Última Rev. Precios  1058 non-null   datetime64[ns]\n",
      " 20  Clave Provedor       525 non-null    object        \n",
      " 21  Código de Barras     934 non-null    object        \n",
      " 22  Código SuperFuentes  64 non-null     object        \n",
      " 23  Biblia               911 non-null    float64       \n",
      " 24  DiferenciaB          1108 non-null   float64       \n",
      " 25  MargenB              895 non-null    float64       \n",
      " 26  Sugerido             605 non-null    object        \n",
      "dtypes: datetime64[ns](2), float64(18), object(7)\n",
      "memory usage: 212.1+ KB\n"
     ]
    }
   ],
   "source": [
    "excel_df.info()"
   ]
  },
  {
   "cell_type": "code",
   "execution_count": 26,
   "metadata": {},
   "outputs": [
    {
     "name": "stdout",
     "output_type": "stream",
     "text": [
      "Fixed ---->  7503023836135\n",
      "Fixed ---->  7622210572974\n",
      "the fix count ---->  2\n",
      "the fixed codes ---->  ['7503023836135', '7622210572974']\n"
     ]
    }
   ],
   "source": [
    "fixed_count = 0\n",
    "fixed_codes = []\n",
    "for index, row in excel_df.iterrows():\n",
    "    if pd.notna(row['Código de Barras']):\n",
    "        if isinstance(row['Código de Barras'], str):\n",
    "            x = row['Código de Barras'].split(',')\n",
    "            for num in x:\n",
    "                num = num.strip()\n",
    "                for code in code_err:\n",
    "                    if num == code:\n",
    "                        #print('the cur count bef', cur.rowcount)\n",
    "                        cur.execute( \"UPDATE PRODUCTOS SET DESCRIPCION = ? WHERE CODIGO = ?;\", (row['Producto'].encode('utf-8'), num.encode('utf-8')) )\n",
    "                        #print('the cur count aft', cur.rowcount)\n",
    "                        if cur.rowcount > 0:\n",
    "                            print('Fixed ----> ', num)\n",
    "                            fixed_count += 1\n",
    "                            fixed_codes.append(num)\n",
    "                        else:\n",
    "                            print('Could not update ----> ', num)\n",
    "        else :\n",
    "            num = str(row['Código de Barras'])\n",
    "            for code in code_err:\n",
    "                if num == code:\n",
    "                    cur.execute( \"UPDATE PRODUCTOS SET DESCRIPCION = ? WHERE CODIGO = ?;\", (row['Producto'].encode('utf-8'), num.encode('utf-8')) )\n",
    "                    if cur.rowcount > 0:\n",
    "                        print('Fixed ----> ', num)\n",
    "                        fixed_count += 1\n",
    "                        fixed_codes.append(num)\n",
    "                    else:\n",
    "                        print('Could not update ----> ', num)\n",
    "    if pd.notna(row['Código SuperFuentes']):\n",
    "        num = str(row['Código SuperFuentes']).upper()\n",
    "        for code in code_err:\n",
    "            if num == code:\n",
    "                cur.execute( \"UPDATE PRODUCTOS SET DESCRIPCION = ? WHERE CODIGO = ?;\", (row['Producto'].encode('utf-8'), num.encode('utf-8')) )\n",
    "                if cur.rowcount > 0:\n",
    "                    print('Fixed ----> ', num)\n",
    "                    fixed_count += 1\n",
    "                    fixed_codes.append(num)\n",
    "                else:\n",
    "                    print('Could not update ----> ', num)\n",
    "print('the fix count ----> ', fixed_count)\n",
    "print('the fixed codes ----> ', fixed_codes)"
   ]
  },
  {
   "cell_type": "code",
   "execution_count": 27,
   "metadata": {},
   "outputs": [
    {
     "name": "stdout",
     "output_type": "stream",
     "text": [
      "the error count ---->  190\n",
      "the error indexes ----->  [86, 168, 237, 312, 419, 420, 472, 489, 490, 491, 538, 739, 740, 743, 783, 808, 809, 810, 812, 816, 934, 976, 1066, 1260, 1324, 1327, 1329, 1330, 1331, 1332, 1333, 1334, 1335, 1336, 1337, 1338, 1339, 1510, 1512, 1530, 1534, 1566, 1625, 1684, 1803, 1834, 1865, 1866, 1913, 1915, 1931, 1950, 2174, 2461, 2468, 2469, 2496, 2497, 2498, 2544, 2549, 2590, 2593, 2594, 2755, 2822, 2875, 2876, 2955, 2966, 2967, 2969, 2970, 2971, 2972, 2973, 2974, 2975, 2976, 2977, 2978, 2979, 2980, 2981, 2982, 2983, 2984, 2985, 2986, 2987, 2990, 2991, 2992, 2993, 2994, 2995, 2997, 3000, 3001, 3003, 3026, 3033, 3041, 3042, 3044, 3046, 3050, 3054, 3055, 3091, 3092, 3093, 3094, 3095, 3096, 3097, 3142, 3216, 3265, 3379, 3430, 3431, 3446, 3455, 3605, 3678, 3757, 3820, 3851, 3874, 3886, 3949, 4063, 4126, 4231, 4298, 4394, 4395, 4486, 4571, 4618, 4649, 4667, 4691, 4713, 4744, 4757, 4916, 4974, 5049, 5064, 5275, 5307, 5362, 5406, 5419, 5426, 5493, 5540, 5593, 5599, 5673, 5754, 5776, 5793, 5806, 5833, 5862, 5884, 5947, 6000, 6015, 6023, 6091, 6131, 6152, 6163, 6203, 6290, 6294, 6345, 6346, 6366, 6386, 6387, 6398, 6399, 6401, 6417, 6449]\n"
     ]
    }
   ],
   "source": [
    "# Update error counts\n",
    "cur.execute(\"SELECT * FROM PRODUCTOS;\")\n",
    "err_count = 0\n",
    "err_indexes = []\n",
    "for i in range(total_rows):\n",
    "    try:\n",
    "        x = cur.fetchone()\n",
    "        #print(x)\n",
    "        if not x:\n",
    "            print('The end of records. Index : ---> ', i)\n",
    "            break\n",
    "    except Exception as err:\n",
    "        err_count += 1\n",
    "        err_indexes.append(i)\n",
    "        #print('Error on index ---> ', i)\n",
    "        #print('The error ---_> ', err)\n",
    "        continue\n",
    "print('the error count ----> ', err_count)\n",
    "print('the error indexes -----> ', err_indexes)"
   ]
  },
  {
   "cell_type": "code",
   "execution_count": 28,
   "metadata": {},
   "outputs": [
    {
     "name": "stdout",
     "output_type": "stream",
     "text": [
      "the error count ---->  189\n",
      "the error indexes ----->  [86, 168, 237, 312, 419, 420, 472, 489, 490, 491, 538, 739, 740, 743, 783, 808, 809, 810, 812, 816, 934, 976, 1066, 1260, 1324, 1327, 1329, 1330, 1331, 1332, 1333, 1334, 1335, 1336, 1337, 1338, 1339, 1510, 1512, 1530, 1534, 1566, 1625, 1684, 1803, 1834, 1865, 1866, 1913, 1915, 1931, 1950, 2174, 2461, 2468, 2469, 2496, 2497, 2498, 2544, 2549, 2590, 2593, 2594, 2755, 2822, 2875, 2876, 2955, 2966, 2967, 2969, 2970, 2971, 2972, 2973, 2974, 2975, 2976, 2977, 2978, 2979, 2980, 2981, 2982, 2983, 2984, 2985, 2986, 2987, 2990, 2991, 2992, 2993, 2994, 2995, 2997, 3000, 3001, 3003, 3026, 3033, 3041, 3042, 3044, 3046, 3050, 3054, 3055, 3091, 3092, 3093, 3094, 3095, 3096, 3097, 3142, 3216, 3265, 3379, 3430, 3431, 3446, 3455, 3605, 3678, 3757, 3820, 3851, 3874, 3949, 4063, 4126, 4231, 4298, 4394, 4395, 4486, 4571, 4618, 4649, 4667, 4691, 4713, 4744, 4757, 4916, 4974, 5049, 5064, 5275, 5307, 5362, 5406, 5419, 5426, 5493, 5540, 5593, 5599, 5673, 5754, 5776, 5793, 5806, 5833, 5862, 5884, 5947, 6000, 6015, 6023, 6091, 6131, 6152, 6163, 6203, 6290, 6294, 6345, 6346, 6366, 6386, 6387, 6398, 6399, 6401, 6417, 6449]\n"
     ]
    }
   ],
   "source": [
    "cur.execute(\"SELECT DESCRIPCION FROM PRODUCTOS;\")\n",
    "err_count = 0\n",
    "err_indexes = []\n",
    "for i in range(total_rows):\n",
    "    try:\n",
    "        x = cur.fetchone()\n",
    "        #print(x)\n",
    "        if not x:\n",
    "            print('The end of records. Index : ---> ', i)\n",
    "            break\n",
    "    except Exception as err:\n",
    "        err_count += 1\n",
    "        err_indexes.append(i)\n",
    "        #print('Error on index ---> ', i)\n",
    "        #print('The error ---_> ', err)\n",
    "        continue\n",
    "print('the error count ----> ', err_count)\n",
    "print('the error indexes -----> ', err_indexes)"
   ]
  },
  {
   "cell_type": "code",
   "execution_count": 29,
   "metadata": {},
   "outputs": [
    {
     "name": "stdout",
     "output_type": "stream",
     "text": [
      "bad code on index --->  2875\n",
      "bad code on index --->  3886\n",
      "the code where desc is broken ---->  ['7501073841246', '7501059200012', '56100012399', '7501005136860', '7501000133031', '7501000154005', '7501000113095', '7501030492955', '7501000113033', '7501000112609', '7501621050038', '7501011395213', '7501003123114', '7501003123213', '7501017005314', '7503006910036', '7501003128331', '7501052476209', '7503006910074', '7501017050765', '7501002600425', '21136019148', '7501041204479', '7501017003167', '7501017005345', '7501025414009', '7501025408152', '7501025408282', '7501025408411', '7501025408718', '7501025413019', '7501025414153', '7501025413002', '7501025408251', '7501025408435', '7501025409555', '7501025409548', '7501003152077', '7501017004416', '7501017042289', '7501002663963', '7501000636129', '38287086004', '7501020511956', '7501056900854', '34000313051', '8018190024098', '8018190024104', '7501017050741', '7501017004003', '7501441612126', '75011635', '7501040490279', '7501017006199', '7501017005291', '7501017004195', '7501017005093', '7501003336323', '7501017005109', '7501000150434', '7501000656868', '7501017005840', '7501003150264', '7501017005369', '7501184600077', '7501001128852', '7501017361083', '7501000153503', '7501073831940', '7501073800939', '7501073830523', '7501073830530', '7501073830554', '7501073830578', '7501073830585', '7501073831155', '7501073831162', '7501073831179', '7501073831209', '7501073831223', '7501073831551', '7501073831575', '7501073831582', '7501073831599', '7501073836549', '7501198350456', '7501073830059', '7501073830097', '7501073830103', '7501073831995', '7501073825079', '7501073831971', '7501073831919', '78000063523', '7501073800946', '7501073800915', '7501073800922', '7501073831889', '7501073831476', '7501031323906', '7501031349623', '7501031311798', '7501031360017', '7501031346653', '7501071120206', '7501007701301', '751425609124', '751425609162', '7501000390885', '7501003125309', '7501017003396', '7501017003334', '7503000054217', '58897091205', '759686101128', '7501011315273', '7501017005611', '7501017004027', '7501011103313', '7501017006083', '7501017003204', '7501017005079', '7501017005123', '70662140055', '840004088006', '7501000144303', '7501054951346', '690528000011', '7501054906186', '7501003125323', '7501000232963', '7501040091421', '706460243963', '724611552511', '7501073839311', '7501073839335', '7501044806014', 'RO', '7501073840331', '7622210253637', '7501073840379', '7501032395834', '7501073840355', '7501020543056', '7501073840188', '7501032396282', '7502256350029', '7501025440343', '7622210254610', '7501073841253', '7501030459330', '757528025489', '7501073841901', '7501073842274', '758104005635', '7501073800854', '7501020554946', '7501073842670', '7501024004072', '7501198353105', '7501073842717', '7501198355109', '7500478014576', '7501025440381', '758104007097', '7501017006915', '7501055367443', '7503012608002', '7503030374309', '7500463998928', '7501073838352', 'R90217', '7500478024971', '7501441615127', '7503031361940', '7501058635372', '7503018023137', '7500326103360', '75076405', '7503031287479', 'cam', 've', 'vd', 't1', 't2', 'td', 'ja', '7500810014004']\n"
     ]
    }
   ],
   "source": [
    "# Get the codes where possible\n",
    "cur.execute(\"SELECT CODIGO FROM PRODUCTOS\")\n",
    "code_err = []\n",
    "bad_code = []\n",
    "for i in range(total_rows):\n",
    "    try:\n",
    "        x = cur.fetchone()\n",
    "        if i in err_indexes:\n",
    "            code_err.append(x[0])\n",
    "    except:\n",
    "        print('bad code on index ---> ', i)\n",
    "        bad_code.append(i)\n",
    "print('the code where desc is broken ----> ', code_err)"
   ]
  },
  {
   "cell_type": "code",
   "execution_count": 30,
   "metadata": {},
   "outputs": [],
   "source": [
    "# Delete on code:\n",
    "del_list = ['7501073841246', '7501059200012', '56100012399', '7501005136860', '7501000133031', '7501000154005', '7501000113095', '7501030492955', '7501000113033', '7501000112609', '7501621050038', '7501011395213', '7501003123114', '7501003123213', '7501017005314', '7503006910036', '7501003128331', '7501052476209', '7503006910074', '7501017050765', '7501002600425', '21136019148', '7501041204479', '7501017003167', '7501017005345', '7501025414009', '7501025408152', '7501025408282', '7501025408411', '7501025408718', '7501025413019', '7501025414153', '7501025413002', '7501025408251', '7501025408435', '7501025409555', '7501025409548', '7501003152077', '7501017004416', '7501017042289', '7501002663963', '7501000636129', '38287086004', '7501020511956', '7501056900854', '34000313051', '8018190024098', '8018190024104', '7501017050741', '7501017004003', '7501441612126', '75011635', '7501040490279', '7501017006199', '7501017005291', '7501017004195', '7501017005093', '7501003336323', '7501017005109', '7501000150434', '7501000656868', '7501017005840', '7501003150264', '7501017005369', '7501184600077', '7501001128852', '7501017361083', '7501000153503', '7501073831940', '7501073800939', '7501073830523', '7501073830530', '7501073830554', '7501073830578', '7501073830585', '7501073831155', '7501073831162', '7501073831179', '7501073831209', '7501073831223', '7501073831551', '7501073831575', '7501073831582', '7501073831599', '7501073836549', '7501198350456', '7501073830059', '7501073830097', '7501073830103', '7501073831995', '7501073825079', '7501073831971', '7501073831919', '78000063523', '7501073800946', '7501073800915', '7501073800922', '7501073831889', '7501073831476', '7501031323906', '7501031349623', '7501031311798', '7501031360017', '7501031346653', '7501071120206', '7501007701301', '751425609124', '751425609162', '7501000390885', '7501003125309', '7501017003396', '7501017003334', '7503000054217', '58897091205', '759686101128', '7501011315273', '7501017005611', '7501017004027', '7501011103313', '7501017006083', '7501017003204', '7501017005079', '7501017005123', '70662140055', '840004088006', '7501000144303', '7501054951346', '690528000011', '7501054906186', '7501003125323', '7501000232963', '7501040091421', '706460243963', '724611552511', '7501073839311', '7501073839335', '7501044806014', 'RO', '7501073840331', '7622210253637', '7501073840379', '7501032395834', '7501073840355', '7501020543056', '7501073840188', '7501032396282', '7502256350029', '7501025440343', '7622210254610', '7501073841253', '7501030459330', '757528025489', '7501073841901', '7501073842274', '758104005635', '7501073800854', '7501020554946', '7501073842670', '7501024004072', '7501198353105', '7501073842717', '7501198355109', '7500478014576', '7501025440381', '758104007097', '7501017006915', '7501055367443', '7503012608002', '7503030374309', '7500463998928', '7501073838352', 'R90217', '7500478024971', '7501441615127', '7503031361940', '7501058635372', '7503018023137', '7500326103360', '75076405', '7503031287479', 'cam', 've', 'vd', 't1', 't2', 'td', 'ja', '7500810014004']\n",
    "for code in del_list:\n",
    "    cur.execute(\"DELETE FROM PRODUCTOS WHERE CODIGO = ?;\", (code.encode('utf-8'),))"
   ]
  },
  {
   "cell_type": "code",
   "execution_count": 34,
   "metadata": {},
   "outputs": [
    {
     "name": "stdout",
     "output_type": "stream",
     "text": [
      "the error count ---->  2\n",
      "the error indexes ----->  [2809, 3757]\n",
      "total_rows --> 6288\n"
     ]
    }
   ],
   "source": [
    "# Update error counts\n",
    "cur.execute(\"SELECT * FROM PRODUCTOS;\")\n",
    "err_count = 0\n",
    "err_indexes = []\n",
    "for i in range(total_rows):\n",
    "    try:\n",
    "        x = cur.fetchone()\n",
    "        #print(x)\n",
    "        if not x:\n",
    "            print('The end of records. Index : ---> ', i)\n",
    "            total_rows = i\n",
    "            break\n",
    "    except Exception as err:\n",
    "        err_count += 1\n",
    "        err_indexes.append(i)\n",
    "        #print('Error on index ---> ', i)\n",
    "        #print('The error ---_> ', err)\n",
    "        continue\n",
    "print('the error count ----> ', err_count)\n",
    "print('the error indexes -----> ', err_indexes)\n",
    "print('total_rows -->', total_rows)"
   ]
  },
  {
   "cell_type": "code",
   "execution_count": 44,
   "metadata": {},
   "outputs": [
    {
     "name": "stdout",
     "output_type": "stream",
     "text": [
      "error in ---> 2809\n",
      "description on faulty index ---> ('tostileo',) 3757\n",
      "the descript --->  ['tostileo']\n"
     ]
    }
   ],
   "source": [
    "cur.execute(\"SELECT DESCRIPCION FROM PRODUCTOS;\")\n",
    "err_desc = []\n",
    "\n",
    "for i in range(total_rows):\n",
    "    try:\n",
    "        x = cur.fetchone()\n",
    "        for err in err_indexes:\n",
    "            if i == err:\n",
    "                print('description on faulty index --->', x, i)\n",
    "                err_desc.append(x[0])\n",
    "    except:\n",
    "        print('error in --->', i)\n",
    "\n",
    "print('the descript ---> ', err_desc)\n",
    "\n",
    "# The error triggered on:\n",
    "#   CODIGO\n",
    "#   DESCRIPCION\n",
    "#   CHECADO_EN\n",
    "#   TVENTA\n"
   ]
  },
  {
   "cell_type": "code",
   "execution_count": 55,
   "metadata": {},
   "outputs": [
    {
     "name": "stdout",
     "output_type": "stream",
     "text": [
      "description on faulty index ---> (3.0,) 2809\n",
      "description on faulty index ---> (2.5,) 3757\n",
      "the descript --->  [3.0, 2.5]\n"
     ]
    }
   ],
   "source": [
    "cur.execute(\"SELECT PVENTA FROM PRODUCTOS;\")\n",
    "err_desc = []\n",
    "\n",
    "for i in range(total_rows):\n",
    "    try:\n",
    "        x = cur.fetchone()\n",
    "        for err in err_indexes:\n",
    "            if i == err:\n",
    "                print('description on faulty index --->', x, i)\n",
    "                err_desc.append(x[0])\n",
    "    except:\n",
    "        print('error in --->', i)\n",
    "\n",
    "print('the descript ---> ', err_desc)\n",
    "\n",
    "# The error triggered on:\n",
    "#   CODIGO\n",
    "#   DESCRIPCION\n",
    "#   CHECADO_EN\n",
    "#   TVENTA\n"
   ]
  },
  {
   "cell_type": "code",
   "execution_count": null,
   "metadata": {},
   "outputs": [],
   "source": [
    "for i in total_rows:\n",
    "    for j in err_indexes:\n",
    "        if i == j:\n",
    "            cur.execute()"
   ]
  }
 ],
 "metadata": {
  "kernelspec": {
   "display_name": "test1",
   "language": "python",
   "name": "python3"
  },
  "language_info": {
   "codemirror_mode": {
    "name": "ipython",
    "version": 3
   },
   "file_extension": ".py",
   "mimetype": "text/x-python",
   "name": "python",
   "nbconvert_exporter": "python",
   "pygments_lexer": "ipython3",
   "version": "3.10.4"
  },
  "orig_nbformat": 4,
  "vscode": {
   "interpreter": {
    "hash": "738665fb450bc22fb8dc1c00fda3ed56696ccfbad6d529e391b07cc2bb1ec3e7"
   }
  }
 },
 "nbformat": 4,
 "nbformat_minor": 2
}
