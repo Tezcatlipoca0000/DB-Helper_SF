{
 "cells": [
  {
   "attachments": {},
   "cell_type": "markdown",
   "metadata": {},
   "source": [
    "# Estadisticas de los datos recogidos por el Punto de Venta"
   ]
  },
  {
   "attachments": {},
   "cell_type": "markdown",
   "metadata": {},
   "source": [
    "### Configuración inicial..."
   ]
  },
  {
   "cell_type": "code",
   "execution_count": 1,
   "metadata": {},
   "outputs": [],
   "source": [
    "import pandas as pd\n",
    "import fdb\n",
    "import datetime\n",
    "from get_prov import get_prov\n",
    "\n",
    "con = fdb.connect(dsn=\"localhost:C:/Users/casa/Desktop/DB-Helper/PDVDATA.FDB\", user='SYSDBA', password='masterkey')\n",
    "cur = con.cursor()\n",
    "prov_info = get_prov()\n",
    "prov = {v: k for k, v in prov_info['data'].items()}\n"
   ]
  },
  {
   "attachments": {},
   "cell_type": "markdown",
   "metadata": {},
   "source": [
    "## Enero:"
   ]
  },
  {
   "cell_type": "code",
   "execution_count": 3,
   "metadata": {},
   "outputs": [
    {
     "name": "stdout",
     "output_type": "stream",
     "text": [
      "error in index: 15\n",
      "error code ---->  ('7501031310258', datetime.datetime(2023, 1, 1, 11, 3, 17))\n",
      "error in index: 16\n",
      "error code ---->  ('7501031310258', datetime.datetime(2023, 1, 1, 11, 3, 17))\n",
      "error in index: 17\n",
      "error code ---->  ('7501031310258', datetime.datetime(2023, 1, 1, 11, 3, 17))\n",
      "error in index: 18\n",
      "error code ---->  ('7501031310258', datetime.datetime(2023, 1, 1, 11, 3, 17))\n",
      "error in index: 19\n",
      "error code ---->  ('7501031310258', datetime.datetime(2023, 1, 1, 11, 3, 17))\n",
      "error in index: 20\n",
      "error code ---->  ('7501031310258', datetime.datetime(2023, 1, 1, 11, 3, 17))\n",
      "error in index: 21\n",
      "error code ---->  ('7501031310258', datetime.datetime(2023, 1, 1, 11, 3, 17))\n",
      "error in index: 22\n",
      "error code ---->  ('7501031310258', datetime.datetime(2023, 1, 1, 11, 3, 17))\n",
      "error in index: 23\n"
     ]
    },
    {
     "ename": "KeyboardInterrupt",
     "evalue": "",
     "output_type": "error",
     "traceback": [
      "\u001b[1;31m---------------------------------------------------------------------------\u001b[0m",
      "\u001b[1;31mIndexError\u001b[0m                                Traceback (most recent call last)",
      "Cell \u001b[1;32mIn[3], line 11\u001b[0m\n\u001b[0;32m     10\u001b[0m         \u001b[39mbreak\u001b[39;00m\n\u001b[1;32m---> 11\u001b[0m     vts_jan\u001b[39m.\u001b[39mloc[\u001b[39mlen\u001b[39m(vts_jan)] \u001b[39m=\u001b[39m [x[\u001b[39m5\u001b[39;49m], prov[x[\u001b[39m6\u001b[39m]], x[\u001b[39m7\u001b[39m], x[\u001b[39m13\u001b[39m]]\n\u001b[0;32m     12\u001b[0m \u001b[39mexcept\u001b[39;00m:\n",
      "\u001b[1;31mIndexError\u001b[0m: tuple index out of range",
      "\nDuring handling of the above exception, another exception occurred:\n",
      "\u001b[1;31mKeyboardInterrupt\u001b[0m                         Traceback (most recent call last)",
      "Cell \u001b[1;32mIn[3], line 15\u001b[0m\n\u001b[0;32m     13\u001b[0m \u001b[39mprint\u001b[39m(\u001b[39mf\u001b[39m\u001b[39m'\u001b[39m\u001b[39merror in index: \u001b[39m\u001b[39m{\u001b[39;00mi\u001b[39m}\u001b[39;00m\u001b[39m'\u001b[39m)\n\u001b[0;32m     14\u001b[0m cur\u001b[39m.\u001b[39mexecute(\u001b[39m\"\u001b[39m\u001b[39mSELECT PRODUCTO_CODIGO, PAGADO_EN FROM VENTATICKETS_ARTICULOS WHERE PAGADO_EN >= ? AND PAGADO_EN < ?;\u001b[39m\u001b[39m\"\u001b[39m, (datetime\u001b[39m.\u001b[39mdatetime(\u001b[39m2023\u001b[39m,\u001b[39m1\u001b[39m,j\u001b[39m+\u001b[39m\u001b[39m1\u001b[39m), datetime\u001b[39m.\u001b[39mdatetime(\u001b[39m2023\u001b[39m,\u001b[39m1\u001b[39m \u001b[39mif\u001b[39;00m j\u001b[39m+\u001b[39m\u001b[39m2\u001b[39m \u001b[39m<\u001b[39m \u001b[39m32\u001b[39m \u001b[39melse\u001b[39;00m \u001b[39m2\u001b[39m, j\u001b[39m+\u001b[39m\u001b[39m2\u001b[39m \u001b[39mif\u001b[39;00m (j\u001b[39m+\u001b[39m\u001b[39m2\u001b[39m \u001b[39m<\u001b[39m \u001b[39m32\u001b[39m) \u001b[39melse\u001b[39;00m \u001b[39m1\u001b[39m)))\n\u001b[1;32m---> 15\u001b[0m x \u001b[39m=\u001b[39m cur\u001b[39m.\u001b[39;49mfetchone()\n\u001b[0;32m     16\u001b[0m \u001b[39mprint\u001b[39m(\u001b[39m'\u001b[39m\u001b[39merror code ----> \u001b[39m\u001b[39m'\u001b[39m, x)\n\u001b[0;32m     17\u001b[0m \u001b[39mcontinue\u001b[39;00m\n",
      "File \u001b[1;32mc:\\Users\\casa\\miniconda3\\envs\\test1\\lib\\site-packages\\fdb\\fbcore.py:3765\u001b[0m, in \u001b[0;36mCursor.fetchone\u001b[1;34m(self)\u001b[0m\n\u001b[0;32m   3753\u001b[0m \u001b[39m\"\"\"Fetch the next row of a query result set.\u001b[39;00m\n\u001b[0;32m   3754\u001b[0m \n\u001b[0;32m   3755\u001b[0m \u001b[39mReturns:\u001b[39;00m\n\u001b[1;32m   (...)\u001b[0m\n\u001b[0;32m   3762\u001b[0m \u001b[39m        unknown status is returned by fetch operation.\u001b[39;00m\n\u001b[0;32m   3763\u001b[0m \u001b[39m\"\"\"\u001b[39;00m\n\u001b[0;32m   3764\u001b[0m \u001b[39mif\u001b[39;00m \u001b[39mself\u001b[39m\u001b[39m.\u001b[39m_ps:\n\u001b[1;32m-> 3765\u001b[0m     \u001b[39mreturn\u001b[39;00m \u001b[39mself\u001b[39;49m\u001b[39m.\u001b[39;49m_ps\u001b[39m.\u001b[39;49m_fetchone()\n\u001b[0;32m   3766\u001b[0m \u001b[39melse\u001b[39;00m:\n\u001b[0;32m   3767\u001b[0m     \u001b[39mraise\u001b[39;00m ProgrammingError(\u001b[39m\"\u001b[39m\u001b[39mCannot fetch from this cursor because\u001b[39m\u001b[39m\"\u001b[39m\n\u001b[0;32m   3768\u001b[0m                            \u001b[39m\"\u001b[39m\u001b[39m it has not executed a statement.\u001b[39m\u001b[39m\"\u001b[39m)\n",
      "File \u001b[1;32mc:\\Users\\casa\\miniconda3\\envs\\test1\\lib\\site-packages\\fdb\\fbcore.py:3409\u001b[0m, in \u001b[0;36mPreparedStatement._fetchone\u001b[1;34m(self)\u001b[0m\n\u001b[0;32m   3406\u001b[0m \u001b[39mif\u001b[39;00m \u001b[39mself\u001b[39m\u001b[39m.\u001b[39mn_output_params \u001b[39m==\u001b[39m \u001b[39m0\u001b[39m:\n\u001b[0;32m   3407\u001b[0m     \u001b[39mraise\u001b[39;00m DatabaseError(\u001b[39m\"\u001b[39m\u001b[39mAttempt to fetch row of results after statement\u001b[39m\u001b[39m\"\u001b[39m\n\u001b[0;32m   3408\u001b[0m                         \u001b[39m\"\u001b[39m\u001b[39m that does not produce result set.\u001b[39m\u001b[39m\"\u001b[39m)\n\u001b[1;32m-> 3409\u001b[0m \u001b[39mself\u001b[39m\u001b[39m.\u001b[39m_last_fetch_status \u001b[39m=\u001b[39m api\u001b[39m.\u001b[39;49misc_dsql_fetch(\n\u001b[0;32m   3410\u001b[0m     \u001b[39mself\u001b[39;49m\u001b[39m.\u001b[39;49m_isc_status,\n\u001b[0;32m   3411\u001b[0m     \u001b[39mself\u001b[39;49m\u001b[39m.\u001b[39;49m_stmt_handle,\n\u001b[0;32m   3412\u001b[0m     \u001b[39mself\u001b[39;49m\u001b[39m.\u001b[39;49m__sql_dialect,\n\u001b[0;32m   3413\u001b[0m     ctypes\u001b[39m.\u001b[39;49mcast(ctypes\u001b[39m.\u001b[39;49mpointer(\u001b[39mself\u001b[39;49m\u001b[39m.\u001b[39;49m_out_sqlda), XSQLDA_PTR))\n\u001b[0;32m   3414\u001b[0m \u001b[39mif\u001b[39;00m \u001b[39mself\u001b[39m\u001b[39m.\u001b[39m_last_fetch_status \u001b[39m==\u001b[39m \u001b[39m0\u001b[39m:\n\u001b[0;32m   3415\u001b[0m     \u001b[39mreturn\u001b[39;00m \u001b[39mself\u001b[39m\u001b[39m.\u001b[39m__xsqlda2tuple(\u001b[39mself\u001b[39m\u001b[39m.\u001b[39m_out_sqlda)\n",
      "\u001b[1;31mKeyboardInterrupt\u001b[0m: "
     ]
    }
   ],
   "source": [
    "vts_jan = pd.DataFrame(columns=['GANANCIA', 'DEPT', 'DATE', 'PRICE'])\n",
    "arts_day = []\n",
    "for j in range(31):\n",
    "    cur.execute(\"SELECT * FROM VENTATICKETS_ARTICULOS WHERE PAGADO_EN >= ? AND PAGADO_EN < ?;\", (datetime.datetime(2023,1,j+1), datetime.datetime(2023,1 if j+2 < 32 else 2, j+2 if (j+2 < 32) else 1)))\n",
    "    for i in range(2000):\n",
    "        try:\n",
    "            x = cur.fetchone()\n",
    "            if not x:\n",
    "                arts_day.append(i)\n",
    "                break\n",
    "            vts_jan.loc[len(vts_jan)] = [x[5], prov[x[6]], x[7], x[13]]\n",
    "        except:\n",
    "            print(f'error in index: {i}')\n",
    "            cur.execute(\"SELECT PRODUCTO_CODIGO, PAGADO_EN FROM VENTATICKETS_ARTICULOS WHERE PAGADO_EN >= ? AND PAGADO_EN < ?;\", (datetime.datetime(2023,1,j+1), datetime.datetime(2023,1 if j+2 < 32 else 2, j+2 if (j+2 < 32) else 1)))\n",
    "            x = cur.fetchone()\n",
    "            print('error code ----> ', x)\n",
    "            continue\n",
    "vts_jan"
   ]
  },
  {
   "cell_type": "code",
   "execution_count": 47,
   "metadata": {},
   "outputs": [],
   "source": [
    "mask = vts_jan['DEPT'].isin([-1])\n",
    "masked = vts_jan[~mask]"
   ]
  },
  {
   "cell_type": "code",
   "execution_count": 48,
   "metadata": {},
   "outputs": [
    {
     "data": {
      "text/plain": [
       "DEPT\n",
       "Coca-Cola       38678.0\n",
       "Verdura         38251.5\n",
       "Varios          35115.0\n",
       "Pepsi           34062.0\n",
       "Treviño         23414.0\n",
       "Lala            16234.0\n",
       "Sabritas        14415.5\n",
       "Marlboro        12963.0\n",
       "Sigma            8674.0\n",
       "Bimbo Blanco     7707.0\n",
       "Name: PRICE, dtype: float64"
      ]
     },
     "execution_count": 48,
     "metadata": {},
     "output_type": "execute_result"
    }
   ],
   "source": [
    "dept_bruta = masked.groupby('DEPT')['PRICE'].sum()\n",
    "dept_bruta.sort_values(ascending=False).head(10)"
   ]
  },
  {
   "cell_type": "code",
   "execution_count": 49,
   "metadata": {},
   "outputs": [
    {
     "data": {
      "text/plain": [
       "DEPT\n",
       "Varios                  10698.799995\n",
       "Verdura                 10475.500000\n",
       "Coca-Cola                9975.375000\n",
       "Treviño                  6887.328409\n",
       "- Sin Departamento -     6607.500000\n",
       "Pepsi                    5259.462981\n",
       "Sabritas                 3418.590775\n",
       "Lala                     2698.000001\n",
       "Sigma                    2057.067997\n",
       "Bimbo Blanco             1623.140000\n",
       "Name: GANANCIA, dtype: float64"
      ]
     },
     "execution_count": 49,
     "metadata": {},
     "output_type": "execute_result"
    }
   ],
   "source": [
    "dept_bruta = masked.groupby('DEPT')['GANANCIA'].sum()\n",
    "dept_bruta.sort_values(ascending=False).head(10)"
   ]
  },
  {
   "cell_type": "code",
   "execution_count": 50,
   "metadata": {},
   "outputs": [
    {
     "data": {
      "text/plain": [
       "283060.69999980927"
      ]
     },
     "execution_count": 50,
     "metadata": {},
     "output_type": "execute_result"
    }
   ],
   "source": [
    "masked['PRICE'].sum()"
   ]
  },
  {
   "cell_type": "code",
   "execution_count": 51,
   "metadata": {},
   "outputs": [
    {
     "data": {
      "text/plain": [
       "74575.68274253607"
      ]
     },
     "execution_count": 51,
     "metadata": {},
     "output_type": "execute_result"
    }
   ],
   "source": [
    "masked['GANANCIA'].sum()"
   ]
  },
  {
   "cell_type": "code",
   "execution_count": 54,
   "metadata": {},
   "outputs": [
    {
     "data": {
      "text/plain": [
       "GANANCIA                    90.0\n",
       "DEPT        - Sin Departamento -\n",
       "DATE         2023-01-30 21:29:00\n",
       "PRICE                       90.0\n",
       "Name: 10861, dtype: object"
      ]
     },
     "execution_count": 54,
     "metadata": {},
     "output_type": "execute_result"
    }
   ],
   "source": [
    "masked['GANANCIA'].idxmax()\n",
    "masked.loc[10861]"
   ]
  },
  {
   "cell_type": "code",
   "execution_count": 52,
   "metadata": {},
   "outputs": [
    {
     "data": {
      "image/png": "[encoded data removed]",
      "text/plain": [
       "<Figure size 640x480 with 1 Axes>"
      ]
     },
     "metadata": {},
     "output_type": "display_data"
    }
   ],
   "source": [
    "jan_income = masked.plot(x='DATE', y='GANANCIA')"
   ]
  },
  {
   "attachments": {},
   "cell_type": "markdown",
   "metadata": {},
   "source": [
    "### Extras..."
   ]
  },
  {
   "cell_type": "code",
   "execution_count": 7,
   "metadata": {},
   "outputs": [
    {
     "name": "stdout",
     "output_type": "stream",
     "text": [
      "<result set row with ID = 10, FOLIO = 1, CAJA_ID = 1, CAJERO_ID = 7, NOMBRE = Ticket 1, CREADO_EN = 2012-06-09 16:49:17.575000, SUBTOTAL = 73.5, IMPUESTOS = 0.0, TOTAL = 73.5, GANANCIA = 73.5, ESTA_ABIERTO = f, CLIENTE_ID = None, VENDIDO_EN = 2012-06-09 16:53:42, ES_MODIFICABLE = t, PAGO_CON = 73.5, MONEDA = MXN, NUMERO_ARTICULOS = 7, PAGADO_EN = 2012-06-09 16:53:42, ESTA_CANCELADO = f, OPERACION_ID = 6, OLD_TICKET_ID = None, NOTAS = b'', IMPRIMIR_NOTA = t, FORMA_PAGO = e         , REFERENCIA = , FACTURA_ID = None, TOTAL_DEVUELTO = 0.0, TOTAL_AHORRADO = 0.0, TURNO_ID = None>\n"
     ]
    }
   ],
   "source": [
    "# Mapa de las columnas...\n",
    "cur.execute(\"SELECT * FROM VENTATICKETS;\")\n",
    "x = cur.fetchonemap()\n",
    "print(x)\n",
    "### -----> <result set row with ID = 10, FOLIO = 1, CAJA_ID = 1, CAJERO_ID = 7, NOMBRE = Ticket 1, CREADO_EN = 2012-06-09 16:49:17.575000, SUBTOTAL = 73.5, IMPUESTOS = 0.0, TOTAL = 73.5, GANANCIA = 73.5, ESTA_ABIERTO = f, CLIENTE_ID = None, VENDIDO_EN = 2012-06-09 16:53:42, ES_MODIFICABLE = t, PAGO_CON = 73.5, MONEDA = MXN, NUMERO_ARTICULOS = 7, PAGADO_EN = 2012-06-09 16:53:42, ESTA_CANCELADO = f, OPERACION_ID = 6, OLD_TICKET_ID = None, NOTAS = b'', IMPRIMIR_NOTA = t, FORMA_PAGO = e         , REFERENCIA = , FACTURA_ID = None, TOTAL_DEVUELTO = 0.0, TOTAL_AHORRADO = 0.0, TURNO_ID = None>"
   ]
  },
  {
   "cell_type": "code",
   "execution_count": 7,
   "metadata": {},
   "outputs": [
    {
     "name": "stdout",
     "output_type": "stream",
     "text": [
      "<result set row with ID = 16, TICKET_ID = 11, PRODUCTO_CODIGO = T, PRODUCTO_NOMBRE = TRAPEADOR, CANTIDAD = 1.0, GANANCIA = 29.5, DEPARTAMENTO_ID = 2, PAGADO_EN = 2012-06-09 16:54:43, USA_MAYOREO = f, PORCENTAJE_DESCUENTO = 0.0, COMPONENTES = , IMPUESTOS_USADOS = , IMPUESTO_UNITARIO = 0.0, PRECIO_USADO = 29.5, CANTIDAD_DEVUELTA = 0.0, FUE_DEVUELTO = f, PORCENTAJE_PAGADO = 100>\n"
     ]
    }
   ],
   "source": [
    "# Mapa de las columnas...\n",
    "cur.execute(\"SELECT * FROM VENTATICKETS_ARTICULOS;\")\n",
    "x = cur.fetchonemap()\n",
    "print(x)\n",
    "### ----> <result set row with ID = 16, TICKET_ID = 11, PRODUCTO_CODIGO = T, PRODUCTO_NOMBRE = TRAPEADOR, CANTIDAD = 1.0, GANANCIA = 29.5, DEPARTAMENTO_ID = 2, PAGADO_EN = 2012-06-09 16:54:43, USA_MAYOREO = f, PORCENTAJE_DESCUENTO = 0.0, COMPONENTES = , IMPUESTOS_USADOS = , IMPUESTO_UNITARIO = 0.0, PRECIO_USADO = 29.5, CANTIDAD_DEVUELTA = 0.0, FUE_DEVUELTO = f, PORCENTAJE_PAGADO = 100>"
   ]
  }
 ],
 "metadata": {
  "kernelspec": {
   "display_name": "test1",
   "language": "python",
   "name": "python3"
  },
  "language_info": {
   "codemirror_mode": {
    "name": "ipython",
    "version": 3
   },
   "file_extension": ".py",
   "mimetype": "text/x-python",
   "name": "python",
   "nbconvert_exporter": "python",
   "pygments_lexer": "ipython3",
   "version": "3.10.4"
  },
  "orig_nbformat": 4
 },
 "nbformat": 4,
 "nbformat_minor": 2
}
